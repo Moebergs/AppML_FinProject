{
 "cells": [
  {
   "cell_type": "code",
   "execution_count": 1,
   "id": "aea7b88d",
   "metadata": {},
   "outputs": [
    {
     "name": "stderr",
     "output_type": "stream",
     "text": [
      "c:\\Users\\lauri\\anaconda3\\envs\\appml\\Lib\\site-packages\\torch_geometric\\typing.py:86: UserWarning: An issue occurred while importing 'torch-scatter'. Disabling its usage. Stacktrace: [WinError 127] The specified procedure could not be found\n",
      "  warnings.warn(f\"An issue occurred while importing 'torch-scatter'. \"\n"
     ]
    }
   ],
   "source": [
    "from src.dataset import PMTfiedDatasetPyArrow\n",
    "import pandas as pd"
   ]
  },
  {
   "cell_type": "code",
   "execution_count": 4,
   "id": "b8f05604",
   "metadata": {},
   "outputs": [],
   "source": [
    "dataset = PMTfiedDatasetPyArrow(\n",
    "    truth_paths=['C:\\\\Users\\\\lauri\\\\OneDrive\\\\Skrivebord\\\\Studie\\\\FinalProject\\\\IceCube_data_final_project\\\\22011\\\\truth_1.parquet'])"
   ]
  },
  {
   "cell_type": "code",
   "execution_count": 8,
   "id": "2cc4166c",
   "metadata": {},
   "outputs": [
    {
     "name": "stdout",
     "output_type": "stream",
     "text": [
      "Data(x=[105, 32], n_doms=105, event_no=111000100000000, feature_path='C:\\Users\\lauri\\OneDrive\\Skrivebord\\Studie\\FinalProject\\IceCube_data_final_project\\22011\\1/PMTfied_1.parquet', energy=73680.6171875, azimuth_neutrino=4.307122230529785, zenith_neutrino=1.088073492050171, dir3vec=[3], dir3vec_lepton=[3], pid=-14.0)\n",
      "Data(x=[32, 32], n_doms=32, event_no=111000100000002, feature_path='C:\\Users\\lauri\\OneDrive\\Skrivebord\\Studie\\FinalProject\\IceCube_data_final_project\\22011\\1/PMTfied_1.parquet', energy=19012.62890625, azimuth_neutrino=2.446139335632324, zenith_neutrino=2.93597149848938, dir3vec=[3], dir3vec_lepton=[3], pid=14.0)\n",
      "Data(x=[114, 32], n_doms=114, event_no=111000100000003, feature_path='C:\\Users\\lauri\\OneDrive\\Skrivebord\\Studie\\FinalProject\\IceCube_data_final_project\\22011\\1/PMTfied_1.parquet', energy=193913.015625, azimuth_neutrino=0.011026307940483093, zenith_neutrino=0.9193357825279236, dir3vec=[3], dir3vec_lepton=[3], pid=14.0)\n",
      "Data(x=[19, 32], n_doms=19, event_no=111000100000005, feature_path='C:\\Users\\lauri\\OneDrive\\Skrivebord\\Studie\\FinalProject\\IceCube_data_final_project\\22011\\1/PMTfied_1.parquet', energy=17603.115234375, azimuth_neutrino=4.5034894943237305, zenith_neutrino=1.4318037033081055, dir3vec=[3], dir3vec_lepton=[3], pid=14.0)\n",
      "Data(x=[104, 32], n_doms=104, event_no=111000100000008, feature_path='C:\\Users\\lauri\\OneDrive\\Skrivebord\\Studie\\FinalProject\\IceCube_data_final_project\\22011\\1/PMTfied_1.parquet', energy=170524.578125, azimuth_neutrino=2.2688486576080322, zenith_neutrino=1.356106162071228, dir3vec=[3], dir3vec_lepton=[3], pid=14.0)\n",
      "Data(x=[128, 32], n_doms=128, event_no=111000100000010, feature_path='C:\\Users\\lauri\\OneDrive\\Skrivebord\\Studie\\FinalProject\\IceCube_data_final_project\\22011\\1/PMTfied_1.parquet', energy=69977.6953125, azimuth_neutrino=2.49804425239563, zenith_neutrino=1.0831068754196167, dir3vec=[3], dir3vec_lepton=[3], pid=14.0)\n",
      "Data(x=[179, 32], n_doms=179, event_no=111000100000012, feature_path='C:\\Users\\lauri\\OneDrive\\Skrivebord\\Studie\\FinalProject\\IceCube_data_final_project\\22011\\1/PMTfied_1.parquet', energy=25150.515625, azimuth_neutrino=2.4058022499084473, zenith_neutrino=1.5114731788635254, dir3vec=[3], dir3vec_lepton=[3], pid=14.0)\n",
      "Data(x=[19, 32], n_doms=19, event_no=111000100000015, feature_path='C:\\Users\\lauri\\OneDrive\\Skrivebord\\Studie\\FinalProject\\IceCube_data_final_project\\22011\\1/PMTfied_1.parquet', energy=21856.05859375, azimuth_neutrino=1.8977437019348145, zenith_neutrino=0.9893412590026855, dir3vec=[3], dir3vec_lepton=[3], pid=-14.0)\n",
      "Data(x=[232, 32], n_doms=232, event_no=111000100000016, feature_path='C:\\Users\\lauri\\OneDrive\\Skrivebord\\Studie\\FinalProject\\IceCube_data_final_project\\22011\\1/PMTfied_1.parquet', energy=311923.28125, azimuth_neutrino=1.9796720743179321, zenith_neutrino=0.4525790810585022, dir3vec=[3], dir3vec_lepton=[3], pid=14.0)\n",
      "Data(x=[16, 32], n_doms=16, event_no=111000100000017, feature_path='C:\\Users\\lauri\\OneDrive\\Skrivebord\\Studie\\FinalProject\\IceCube_data_final_project\\22011\\1/PMTfied_1.parquet', energy=68372.78125, azimuth_neutrino=5.437741279602051, zenith_neutrino=0.566138505935669, dir3vec=[3], dir3vec_lepton=[3], pid=14.0)\n",
      "Data(x=[41, 32], n_doms=41, event_no=111000100000019, feature_path='C:\\Users\\lauri\\OneDrive\\Skrivebord\\Studie\\FinalProject\\IceCube_data_final_project\\22011\\1/PMTfied_1.parquet', energy=29099.142578125, azimuth_neutrino=5.697476387023926, zenith_neutrino=1.9862091541290283, dir3vec=[3], dir3vec_lepton=[3], pid=-14.0)\n",
      "Data(x=[128, 32], n_doms=128, event_no=111000100000020, feature_path='C:\\Users\\lauri\\OneDrive\\Skrivebord\\Studie\\FinalProject\\IceCube_data_final_project\\22011\\1/PMTfied_1.parquet', energy=15746.6650390625, azimuth_neutrino=1.7218495607376099, zenith_neutrino=1.844368815422058, dir3vec=[3], dir3vec_lepton=[3], pid=14.0)\n",
      "Data(x=[55, 32], n_doms=55, event_no=111000100000021, feature_path='C:\\Users\\lauri\\OneDrive\\Skrivebord\\Studie\\FinalProject\\IceCube_data_final_project\\22011\\1/PMTfied_1.parquet', energy=408035.21875, azimuth_neutrino=4.192131519317627, zenith_neutrino=2.582735300064087, dir3vec=[3], dir3vec_lepton=[3], pid=-14.0)\n",
      "Data(x=[36, 32], n_doms=36, event_no=111000100000025, feature_path='C:\\Users\\lauri\\OneDrive\\Skrivebord\\Studie\\FinalProject\\IceCube_data_final_project\\22011\\1/PMTfied_1.parquet', energy=26725.20703125, azimuth_neutrino=2.568326473236084, zenith_neutrino=1.3009918928146362, dir3vec=[3], dir3vec_lepton=[3], pid=14.0)\n",
      "Data(x=[69, 32], n_doms=69, event_no=111000100000029, feature_path='C:\\Users\\lauri\\OneDrive\\Skrivebord\\Studie\\FinalProject\\IceCube_data_final_project\\22011\\1/PMTfied_1.parquet', energy=67916.3828125, azimuth_neutrino=5.198602676391602, zenith_neutrino=1.2655152082443237, dir3vec=[3], dir3vec_lepton=[3], pid=-14.0)\n",
      "Data(x=[128, 32], n_doms=128, event_no=111000100000030, feature_path='C:\\Users\\lauri\\OneDrive\\Skrivebord\\Studie\\FinalProject\\IceCube_data_final_project\\22011\\1/PMTfied_1.parquet', energy=396586.78125, azimuth_neutrino=1.8554964065551758, zenith_neutrino=0.35715991258621216, dir3vec=[3], dir3vec_lepton=[3], pid=14.0)\n",
      "Data(x=[264, 32], n_doms=264, event_no=111000100000033, feature_path='C:\\Users\\lauri\\OneDrive\\Skrivebord\\Studie\\FinalProject\\IceCube_data_final_project\\22011\\1/PMTfied_1.parquet', energy=15746.1318359375, azimuth_neutrino=2.657742738723755, zenith_neutrino=2.890188455581665, dir3vec=[3], dir3vec_lepton=[3], pid=14.0)\n",
      "Data(x=[101, 32], n_doms=101, event_no=111000100000035, feature_path='C:\\Users\\lauri\\OneDrive\\Skrivebord\\Studie\\FinalProject\\IceCube_data_final_project\\22011\\1/PMTfied_1.parquet', energy=30069.791015625, azimuth_neutrino=5.162406921386719, zenith_neutrino=1.301073670387268, dir3vec=[3], dir3vec_lepton=[3], pid=14.0)\n",
      "Data(x=[48, 32], n_doms=48, event_no=111000100000037, feature_path='C:\\Users\\lauri\\OneDrive\\Skrivebord\\Studie\\FinalProject\\IceCube_data_final_project\\22011\\1/PMTfied_1.parquet', energy=294491.78125, azimuth_neutrino=2.3721389770507812, zenith_neutrino=1.3238543272018433, dir3vec=[3], dir3vec_lepton=[3], pid=14.0)\n",
      "Data(x=[17, 32], n_doms=17, event_no=111000100000039, feature_path='C:\\Users\\lauri\\OneDrive\\Skrivebord\\Studie\\FinalProject\\IceCube_data_final_project\\22011\\1/PMTfied_1.parquet', energy=61562.01953125, azimuth_neutrino=2.1490375995635986, zenith_neutrino=2.8808934688568115, dir3vec=[3], dir3vec_lepton=[3], pid=14.0)\n",
      "Data(x=[148, 32], n_doms=148, event_no=111000100000040, feature_path='C:\\Users\\lauri\\OneDrive\\Skrivebord\\Studie\\FinalProject\\IceCube_data_final_project\\22011\\1/PMTfied_1.parquet', energy=137078.375, azimuth_neutrino=1.9606330394744873, zenith_neutrino=1.3979653120040894, dir3vec=[3], dir3vec_lepton=[3], pid=-14.0)\n",
      "Data(x=[201, 32], n_doms=201, event_no=111000100000041, feature_path='C:\\Users\\lauri\\OneDrive\\Skrivebord\\Studie\\FinalProject\\IceCube_data_final_project\\22011\\1/PMTfied_1.parquet', energy=27249.78515625, azimuth_neutrino=0.388284832239151, zenith_neutrino=0.7498771548271179, dir3vec=[3], dir3vec_lepton=[3], pid=14.0)\n",
      "Data(x=[46, 32], n_doms=46, event_no=111000100000044, feature_path='C:\\Users\\lauri\\OneDrive\\Skrivebord\\Studie\\FinalProject\\IceCube_data_final_project\\22011\\1/PMTfied_1.parquet', energy=234152.8125, azimuth_neutrino=4.415155410766602, zenith_neutrino=0.3535038232803345, dir3vec=[3], dir3vec_lepton=[3], pid=-14.0)\n",
      "Data(x=[93, 32], n_doms=93, event_no=111000100000047, feature_path='C:\\Users\\lauri\\OneDrive\\Skrivebord\\Studie\\FinalProject\\IceCube_data_final_project\\22011\\1/PMTfied_1.parquet', energy=325209.125, azimuth_neutrino=2.5176525115966797, zenith_neutrino=1.0731563568115234, dir3vec=[3], dir3vec_lepton=[3], pid=-14.0)\n",
      "Data(x=[519, 32], n_doms=519, event_no=111000100000048, feature_path='C:\\Users\\lauri\\OneDrive\\Skrivebord\\Studie\\FinalProject\\IceCube_data_final_project\\22011\\1/PMTfied_1.parquet', energy=765871.4375, azimuth_neutrino=5.223525047302246, zenith_neutrino=0.9621709585189819, dir3vec=[3], dir3vec_lepton=[3], pid=14.0)\n",
      "Data(x=[204, 32], n_doms=204, event_no=111000100000049, feature_path='C:\\Users\\lauri\\OneDrive\\Skrivebord\\Studie\\FinalProject\\IceCube_data_final_project\\22011\\1/PMTfied_1.parquet', energy=27990.94921875, azimuth_neutrino=4.326092720031738, zenith_neutrino=1.0821154117584229, dir3vec=[3], dir3vec_lepton=[3], pid=14.0)\n",
      "Data(x=[65, 32], n_doms=65, event_no=111000100000050, feature_path='C:\\Users\\lauri\\OneDrive\\Skrivebord\\Studie\\FinalProject\\IceCube_data_final_project\\22011\\1/PMTfied_1.parquet', energy=225815.65625, azimuth_neutrino=5.604577541351318, zenith_neutrino=1.0303993225097656, dir3vec=[3], dir3vec_lepton=[3], pid=-14.0)\n",
      "Data(x=[56, 32], n_doms=56, event_no=111000100000051, feature_path='C:\\Users\\lauri\\OneDrive\\Skrivebord\\Studie\\FinalProject\\IceCube_data_final_project\\22011\\1/PMTfied_1.parquet', energy=70242.1015625, azimuth_neutrino=2.0437302589416504, zenith_neutrino=2.006343126296997, dir3vec=[3], dir3vec_lepton=[3], pid=14.0)\n",
      "Data(x=[33, 32], n_doms=33, event_no=111000100000052, feature_path='C:\\Users\\lauri\\OneDrive\\Skrivebord\\Studie\\FinalProject\\IceCube_data_final_project\\22011\\1/PMTfied_1.parquet', energy=747542.1875, azimuth_neutrino=3.0906972885131836, zenith_neutrino=1.7587966918945312, dir3vec=[3], dir3vec_lepton=[3], pid=-14.0)\n",
      "Data(x=[81, 32], n_doms=81, event_no=111000100000055, feature_path='C:\\Users\\lauri\\OneDrive\\Skrivebord\\Studie\\FinalProject\\IceCube_data_final_project\\22011\\1/PMTfied_1.parquet', energy=221596.953125, azimuth_neutrino=5.90725040435791, zenith_neutrino=0.743172287940979, dir3vec=[3], dir3vec_lepton=[3], pid=14.0)\n",
      "Data(x=[115, 32], n_doms=115, event_no=111000100000061, feature_path='C:\\Users\\lauri\\OneDrive\\Skrivebord\\Studie\\FinalProject\\IceCube_data_final_project\\22011\\1/PMTfied_1.parquet', energy=25641.6640625, azimuth_neutrino=0.8136104345321655, zenith_neutrino=0.42304810881614685, dir3vec=[3], dir3vec_lepton=[3], pid=14.0)\n",
      "Data(x=[32, 32], n_doms=32, event_no=111000100000063, feature_path='C:\\Users\\lauri\\OneDrive\\Skrivebord\\Studie\\FinalProject\\IceCube_data_final_project\\22011\\1/PMTfied_1.parquet', energy=13236.9873046875, azimuth_neutrino=0.8942185640335083, zenith_neutrino=1.6095390319824219, dir3vec=[3], dir3vec_lepton=[3], pid=14.0)\n",
      "Data(x=[49, 32], n_doms=49, event_no=111000100000064, feature_path='C:\\Users\\lauri\\OneDrive\\Skrivebord\\Studie\\FinalProject\\IceCube_data_final_project\\22011\\1/PMTfied_1.parquet', energy=98649.59375, azimuth_neutrino=2.877800703048706, zenith_neutrino=1.7511553764343262, dir3vec=[3], dir3vec_lepton=[3], pid=-14.0)\n",
      "Data(x=[104, 32], n_doms=104, event_no=111000100000065, feature_path='C:\\Users\\lauri\\OneDrive\\Skrivebord\\Studie\\FinalProject\\IceCube_data_final_project\\22011\\1/PMTfied_1.parquet', energy=24140.95703125, azimuth_neutrino=6.114560127258301, zenith_neutrino=2.7785205841064453, dir3vec=[3], dir3vec_lepton=[3], pid=-14.0)\n",
      "Data(x=[32, 32], n_doms=32, event_no=111000100000066, feature_path='C:\\Users\\lauri\\OneDrive\\Skrivebord\\Studie\\FinalProject\\IceCube_data_final_project\\22011\\1/PMTfied_1.parquet', energy=14248.2705078125, azimuth_neutrino=4.0095601081848145, zenith_neutrino=1.305473804473877, dir3vec=[3], dir3vec_lepton=[3], pid=-14.0)\n",
      "Data(x=[35, 32], n_doms=35, event_no=111000100000068, feature_path='C:\\Users\\lauri\\OneDrive\\Skrivebord\\Studie\\FinalProject\\IceCube_data_final_project\\22011\\1/PMTfied_1.parquet', energy=28134.015625, azimuth_neutrino=1.1376179456710815, zenith_neutrino=1.2425001859664917, dir3vec=[3], dir3vec_lepton=[3], pid=14.0)\n",
      "Data(x=[18, 32], n_doms=18, event_no=111000100000070, feature_path='C:\\Users\\lauri\\OneDrive\\Skrivebord\\Studie\\FinalProject\\IceCube_data_final_project\\22011\\1/PMTfied_1.parquet', energy=30966.876953125, azimuth_neutrino=0.011725340038537979, zenith_neutrino=1.3702945709228516, dir3vec=[3], dir3vec_lepton=[3], pid=-14.0)\n",
      "Data(x=[201, 32], n_doms=201, event_no=111000100000071, feature_path='C:\\Users\\lauri\\OneDrive\\Skrivebord\\Studie\\FinalProject\\IceCube_data_final_project\\22011\\1/PMTfied_1.parquet', energy=40487.5234375, azimuth_neutrino=1.9774593114852905, zenith_neutrino=1.1951217651367188, dir3vec=[3], dir3vec_lepton=[3], pid=-14.0)\n",
      "Data(x=[53, 32], n_doms=53, event_no=111000100000073, feature_path='C:\\Users\\lauri\\OneDrive\\Skrivebord\\Studie\\FinalProject\\IceCube_data_final_project\\22011\\1/PMTfied_1.parquet', energy=30986.1953125, azimuth_neutrino=0.5996732711791992, zenith_neutrino=1.5688377618789673, dir3vec=[3], dir3vec_lepton=[3], pid=14.0)\n",
      "Data(x=[58, 32], n_doms=58, event_no=111000100000074, feature_path='C:\\Users\\lauri\\OneDrive\\Skrivebord\\Studie\\FinalProject\\IceCube_data_final_project\\22011\\1/PMTfied_1.parquet', energy=37373.30078125, azimuth_neutrino=0.2598583698272705, zenith_neutrino=2.3189635276794434, dir3vec=[3], dir3vec_lepton=[3], pid=-14.0)\n",
      "Data(x=[16, 32], n_doms=16, event_no=111000100000076, feature_path='C:\\Users\\lauri\\OneDrive\\Skrivebord\\Studie\\FinalProject\\IceCube_data_final_project\\22011\\1/PMTfied_1.parquet', energy=16805.33203125, azimuth_neutrino=1.8450771570205688, zenith_neutrino=2.395350456237793, dir3vec=[3], dir3vec_lepton=[3], pid=-14.0)\n",
      "Data(x=[84, 32], n_doms=84, event_no=111000100000079, feature_path='C:\\Users\\lauri\\OneDrive\\Skrivebord\\Studie\\FinalProject\\IceCube_data_final_project\\22011\\1/PMTfied_1.parquet', energy=845338.9375, azimuth_neutrino=1.1302329301834106, zenith_neutrino=1.4177793264389038, dir3vec=[3], dir3vec_lepton=[3], pid=-14.0)\n",
      "Data(x=[63, 32], n_doms=63, event_no=111000100000080, feature_path='C:\\Users\\lauri\\OneDrive\\Skrivebord\\Studie\\FinalProject\\IceCube_data_final_project\\22011\\1/PMTfied_1.parquet', energy=10368.01953125, azimuth_neutrino=5.329123497009277, zenith_neutrino=1.3983536958694458, dir3vec=[3], dir3vec_lepton=[3], pid=14.0)\n",
      "Data(x=[17, 32], n_doms=17, event_no=111000100000082, feature_path='C:\\Users\\lauri\\OneDrive\\Skrivebord\\Studie\\FinalProject\\IceCube_data_final_project\\22011\\1/PMTfied_1.parquet', energy=35345.22265625, azimuth_neutrino=4.471277713775635, zenith_neutrino=1.8655791282653809, dir3vec=[3], dir3vec_lepton=[3], pid=14.0)\n",
      "Data(x=[38, 32], n_doms=38, event_no=111000100000083, feature_path='C:\\Users\\lauri\\OneDrive\\Skrivebord\\Studie\\FinalProject\\IceCube_data_final_project\\22011\\1/PMTfied_1.parquet', energy=169974.15625, azimuth_neutrino=3.1605629920959473, zenith_neutrino=1.993162989616394, dir3vec=[3], dir3vec_lepton=[3], pid=-14.0)\n",
      "Data(x=[300, 32], n_doms=300, event_no=111000100000084, feature_path='C:\\Users\\lauri\\OneDrive\\Skrivebord\\Studie\\FinalProject\\IceCube_data_final_project\\22011\\1/PMTfied_1.parquet', energy=305473.15625, azimuth_neutrino=1.3644144535064697, zenith_neutrino=1.1907806396484375, dir3vec=[3], dir3vec_lepton=[3], pid=-14.0)\n",
      "Data(x=[87, 32], n_doms=87, event_no=111000100000087, feature_path='C:\\Users\\lauri\\OneDrive\\Skrivebord\\Studie\\FinalProject\\IceCube_data_final_project\\22011\\1/PMTfied_1.parquet', energy=14965.1796875, azimuth_neutrino=2.52677059173584, zenith_neutrino=1.2352031469345093, dir3vec=[3], dir3vec_lepton=[3], pid=-14.0)\n",
      "Data(x=[34, 32], n_doms=34, event_no=111000100000089, feature_path='C:\\Users\\lauri\\OneDrive\\Skrivebord\\Studie\\FinalProject\\IceCube_data_final_project\\22011\\1/PMTfied_1.parquet', energy=64433.37109375, azimuth_neutrino=0.07740671187639236, zenith_neutrino=1.148551344871521, dir3vec=[3], dir3vec_lepton=[3], pid=-14.0)\n",
      "Data(x=[113, 32], n_doms=113, event_no=111000100000090, feature_path='C:\\Users\\lauri\\OneDrive\\Skrivebord\\Studie\\FinalProject\\IceCube_data_final_project\\22011\\1/PMTfied_1.parquet', energy=46283.23046875, azimuth_neutrino=2.626718044281006, zenith_neutrino=0.46609950065612793, dir3vec=[3], dir3vec_lepton=[3], pid=14.0)\n",
      "Data(x=[21, 32], n_doms=21, event_no=111000100000092, feature_path='C:\\Users\\lauri\\OneDrive\\Skrivebord\\Studie\\FinalProject\\IceCube_data_final_project\\22011\\1/PMTfied_1.parquet', energy=44332.546875, azimuth_neutrino=5.364708423614502, zenith_neutrino=2.6236343383789062, dir3vec=[3], dir3vec_lepton=[3], pid=-14.0)\n",
      "Data(x=[26, 32], n_doms=26, event_no=111000100000094, feature_path='C:\\Users\\lauri\\OneDrive\\Skrivebord\\Studie\\FinalProject\\IceCube_data_final_project\\22011\\1/PMTfied_1.parquet', energy=22168.587890625, azimuth_neutrino=2.8829286098480225, zenith_neutrino=2.1121773719787598, dir3vec=[3], dir3vec_lepton=[3], pid=-14.0)\n",
      "Data(x=[48, 32], n_doms=48, event_no=111000100000095, feature_path='C:\\Users\\lauri\\OneDrive\\Skrivebord\\Studie\\FinalProject\\IceCube_data_final_project\\22011\\1/PMTfied_1.parquet', energy=419245.15625, azimuth_neutrino=1.7525426149368286, zenith_neutrino=2.335094690322876, dir3vec=[3], dir3vec_lepton=[3], pid=-14.0)\n",
      "Data(x=[17, 32], n_doms=17, event_no=111000100000096, feature_path='C:\\Users\\lauri\\OneDrive\\Skrivebord\\Studie\\FinalProject\\IceCube_data_final_project\\22011\\1/PMTfied_1.parquet', energy=51051.76171875, azimuth_neutrino=5.204522132873535, zenith_neutrino=2.106809377670288, dir3vec=[3], dir3vec_lepton=[3], pid=-14.0)\n",
      "Data(x=[28, 32], n_doms=28, event_no=111000100000098, feature_path='C:\\Users\\lauri\\OneDrive\\Skrivebord\\Studie\\FinalProject\\IceCube_data_final_project\\22011\\1/PMTfied_1.parquet', energy=22835.529296875, azimuth_neutrino=2.323944330215454, zenith_neutrino=1.3351237773895264, dir3vec=[3], dir3vec_lepton=[3], pid=-14.0)\n",
      "Data(x=[16, 32], n_doms=16, event_no=111000100000100, feature_path='C:\\Users\\lauri\\OneDrive\\Skrivebord\\Studie\\FinalProject\\IceCube_data_final_project\\22011\\1/PMTfied_1.parquet', energy=12631.267578125, azimuth_neutrino=3.6399006843566895, zenith_neutrino=2.0233147144317627, dir3vec=[3], dir3vec_lepton=[3], pid=-14.0)\n",
      "Data(x=[52, 32], n_doms=52, event_no=111000100000101, feature_path='C:\\Users\\lauri\\OneDrive\\Skrivebord\\Studie\\FinalProject\\IceCube_data_final_project\\22011\\1/PMTfied_1.parquet', energy=85228.8203125, azimuth_neutrino=5.998193740844727, zenith_neutrino=1.2732524871826172, dir3vec=[3], dir3vec_lepton=[3], pid=14.0)\n",
      "Data(x=[41, 32], n_doms=41, event_no=111000100000102, feature_path='C:\\Users\\lauri\\OneDrive\\Skrivebord\\Studie\\FinalProject\\IceCube_data_final_project\\22011\\1/PMTfied_1.parquet', energy=197248.6875, azimuth_neutrino=3.64219069480896, zenith_neutrino=0.6641599535942078, dir3vec=[3], dir3vec_lepton=[3], pid=14.0)\n",
      "Data(x=[56, 32], n_doms=56, event_no=111000100000104, feature_path='C:\\Users\\lauri\\OneDrive\\Skrivebord\\Studie\\FinalProject\\IceCube_data_final_project\\22011\\1/PMTfied_1.parquet', energy=30149.142578125, azimuth_neutrino=4.611151218414307, zenith_neutrino=2.658287286758423, dir3vec=[3], dir3vec_lepton=[3], pid=-14.0)\n",
      "Data(x=[16, 32], n_doms=16, event_no=111000100000105, feature_path='C:\\Users\\lauri\\OneDrive\\Skrivebord\\Studie\\FinalProject\\IceCube_data_final_project\\22011\\1/PMTfied_1.parquet', energy=66397.5546875, azimuth_neutrino=2.797252893447876, zenith_neutrino=1.8276019096374512, dir3vec=[3], dir3vec_lepton=[3], pid=14.0)\n",
      "Data(x=[259, 32], n_doms=259, event_no=111000100000106, feature_path='C:\\Users\\lauri\\OneDrive\\Skrivebord\\Studie\\FinalProject\\IceCube_data_final_project\\22011\\1/PMTfied_1.parquet', energy=47000.51171875, azimuth_neutrino=3.7517285346984863, zenith_neutrino=0.6621066927909851, dir3vec=[3], dir3vec_lepton=[3], pid=-14.0)\n",
      "Data(x=[129, 32], n_doms=129, event_no=111000100000108, feature_path='C:\\Users\\lauri\\OneDrive\\Skrivebord\\Studie\\FinalProject\\IceCube_data_final_project\\22011\\1/PMTfied_1.parquet', energy=32896.53125, azimuth_neutrino=2.476050853729248, zenith_neutrino=1.059210181236267, dir3vec=[3], dir3vec_lepton=[3], pid=-14.0)\n",
      "Data(x=[16, 32], n_doms=16, event_no=111000100000109, feature_path='C:\\Users\\lauri\\OneDrive\\Skrivebord\\Studie\\FinalProject\\IceCube_data_final_project\\22011\\1/PMTfied_1.parquet', energy=16611.365234375, azimuth_neutrino=0.8518160581588745, zenith_neutrino=2.6638360023498535, dir3vec=[3], dir3vec_lepton=[3], pid=14.0)\n",
      "Data(x=[182, 32], n_doms=182, event_no=111000100000111, feature_path='C:\\Users\\lauri\\OneDrive\\Skrivebord\\Studie\\FinalProject\\IceCube_data_final_project\\22011\\1/PMTfied_1.parquet', energy=63186.890625, azimuth_neutrino=0.7933320999145508, zenith_neutrino=0.787802517414093, dir3vec=[3], dir3vec_lepton=[3], pid=-14.0)\n",
      "Data(x=[340, 32], n_doms=340, event_no=111000100000112, feature_path='C:\\Users\\lauri\\OneDrive\\Skrivebord\\Studie\\FinalProject\\IceCube_data_final_project\\22011\\1/PMTfied_1.parquet', energy=768046.1875, azimuth_neutrino=5.771908283233643, zenith_neutrino=1.0682439804077148, dir3vec=[3], dir3vec_lepton=[3], pid=14.0)\n",
      "Data(x=[22, 32], n_doms=22, event_no=111000100000113, feature_path='C:\\Users\\lauri\\OneDrive\\Skrivebord\\Studie\\FinalProject\\IceCube_data_final_project\\22011\\1/PMTfied_1.parquet', energy=24650.609375, azimuth_neutrino=0.2787908911705017, zenith_neutrino=1.518608570098877, dir3vec=[3], dir3vec_lepton=[3], pid=14.0)\n",
      "Data(x=[202, 32], n_doms=202, event_no=111000100000114, feature_path='C:\\Users\\lauri\\OneDrive\\Skrivebord\\Studie\\FinalProject\\IceCube_data_final_project\\22011\\1/PMTfied_1.parquet', energy=20365.701171875, azimuth_neutrino=1.7398804426193237, zenith_neutrino=0.31395602226257324, dir3vec=[3], dir3vec_lepton=[3], pid=-14.0)\n",
      "Data(x=[24, 32], n_doms=24, event_no=111000100000115, feature_path='C:\\Users\\lauri\\OneDrive\\Skrivebord\\Studie\\FinalProject\\IceCube_data_final_project\\22011\\1/PMTfied_1.parquet', energy=775655.3125, azimuth_neutrino=0.1602380871772766, zenith_neutrino=2.2280337810516357, dir3vec=[3], dir3vec_lepton=[3], pid=14.0)\n",
      "Data(x=[39, 32], n_doms=39, event_no=111000100000120, feature_path='C:\\Users\\lauri\\OneDrive\\Skrivebord\\Studie\\FinalProject\\IceCube_data_final_project\\22011\\1/PMTfied_1.parquet', energy=11737.95703125, azimuth_neutrino=2.9864413738250732, zenith_neutrino=1.5715795755386353, dir3vec=[3], dir3vec_lepton=[3], pid=14.0)\n",
      "Data(x=[34, 32], n_doms=34, event_no=111000100000121, feature_path='C:\\Users\\lauri\\OneDrive\\Skrivebord\\Studie\\FinalProject\\IceCube_data_final_project\\22011\\1/PMTfied_1.parquet', energy=14123.1455078125, azimuth_neutrino=1.101185917854309, zenith_neutrino=1.9624063968658447, dir3vec=[3], dir3vec_lepton=[3], pid=-14.0)\n",
      "Data(x=[236, 32], n_doms=236, event_no=111000100000123, feature_path='C:\\Users\\lauri\\OneDrive\\Skrivebord\\Studie\\FinalProject\\IceCube_data_final_project\\22011\\1/PMTfied_1.parquet', energy=62342.70703125, azimuth_neutrino=5.8440728187561035, zenith_neutrino=1.8992061614990234, dir3vec=[3], dir3vec_lepton=[3], pid=14.0)\n",
      "Data(x=[57, 32], n_doms=57, event_no=111000100000126, feature_path='C:\\Users\\lauri\\OneDrive\\Skrivebord\\Studie\\FinalProject\\IceCube_data_final_project\\22011\\1/PMTfied_1.parquet', energy=22232.154296875, azimuth_neutrino=3.439444065093994, zenith_neutrino=1.6035715341567993, dir3vec=[3], dir3vec_lepton=[3], pid=-14.0)\n",
      "Data(x=[28, 32], n_doms=28, event_no=111000100000129, feature_path='C:\\Users\\lauri\\OneDrive\\Skrivebord\\Studie\\FinalProject\\IceCube_data_final_project\\22011\\1/PMTfied_1.parquet', energy=41396.8359375, azimuth_neutrino=4.85479211807251, zenith_neutrino=0.4353571832180023, dir3vec=[3], dir3vec_lepton=[3], pid=-14.0)\n",
      "Data(x=[82, 32], n_doms=82, event_no=111000100000131, feature_path='C:\\Users\\lauri\\OneDrive\\Skrivebord\\Studie\\FinalProject\\IceCube_data_final_project\\22011\\1/PMTfied_1.parquet', energy=11540.634765625, azimuth_neutrino=0.9073030948638916, zenith_neutrino=1.1999828815460205, dir3vec=[3], dir3vec_lepton=[3], pid=14.0)\n",
      "Data(x=[39, 32], n_doms=39, event_no=111000100000132, feature_path='C:\\Users\\lauri\\OneDrive\\Skrivebord\\Studie\\FinalProject\\IceCube_data_final_project\\22011\\1/PMTfied_1.parquet', energy=197530.46875, azimuth_neutrino=3.6843061447143555, zenith_neutrino=2.280679941177368, dir3vec=[3], dir3vec_lepton=[3], pid=-14.0)\n",
      "Data(x=[192, 32], n_doms=192, event_no=111000100000136, feature_path='C:\\Users\\lauri\\OneDrive\\Skrivebord\\Studie\\FinalProject\\IceCube_data_final_project\\22011\\1/PMTfied_1.parquet', energy=23229.158203125, azimuth_neutrino=6.023123741149902, zenith_neutrino=1.2823612689971924, dir3vec=[3], dir3vec_lepton=[3], pid=14.0)\n",
      "Data(x=[59, 32], n_doms=59, event_no=111000100000137, feature_path='C:\\Users\\lauri\\OneDrive\\Skrivebord\\Studie\\FinalProject\\IceCube_data_final_project\\22011\\1/PMTfied_1.parquet', energy=105020.140625, azimuth_neutrino=2.431474208831787, zenith_neutrino=2.037264585494995, dir3vec=[3], dir3vec_lepton=[3], pid=14.0)\n",
      "Data(x=[331, 32], n_doms=331, event_no=111000100000138, feature_path='C:\\Users\\lauri\\OneDrive\\Skrivebord\\Studie\\FinalProject\\IceCube_data_final_project\\22011\\1/PMTfied_1.parquet', energy=496706.34375, azimuth_neutrino=3.526049852371216, zenith_neutrino=0.39099183678627014, dir3vec=[3], dir3vec_lepton=[3], pid=14.0)\n",
      "Data(x=[125, 32], n_doms=125, event_no=111000100000139, feature_path='C:\\Users\\lauri\\OneDrive\\Skrivebord\\Studie\\FinalProject\\IceCube_data_final_project\\22011\\1/PMTfied_1.parquet', energy=38582.46875, azimuth_neutrino=1.282847285270691, zenith_neutrino=0.9071459174156189, dir3vec=[3], dir3vec_lepton=[3], pid=-14.0)\n",
      "Data(x=[27, 32], n_doms=27, event_no=111000100000140, feature_path='C:\\Users\\lauri\\OneDrive\\Skrivebord\\Studie\\FinalProject\\IceCube_data_final_project\\22011\\1/PMTfied_1.parquet', energy=17145.806640625, azimuth_neutrino=5.8962225914001465, zenith_neutrino=1.6197141408920288, dir3vec=[3], dir3vec_lepton=[3], pid=14.0)\n",
      "Data(x=[129, 32], n_doms=129, event_no=111000100000142, feature_path='C:\\Users\\lauri\\OneDrive\\Skrivebord\\Studie\\FinalProject\\IceCube_data_final_project\\22011\\1/PMTfied_1.parquet', energy=22412.703125, azimuth_neutrino=4.33273458480835, zenith_neutrino=0.7661826610565186, dir3vec=[3], dir3vec_lepton=[3], pid=-14.0)\n",
      "Data(x=[10, 32], n_doms=10, event_no=111000100000143, feature_path='C:\\Users\\lauri\\OneDrive\\Skrivebord\\Studie\\FinalProject\\IceCube_data_final_project\\22011\\1/PMTfied_1.parquet', energy=11691.1552734375, azimuth_neutrino=3.665024995803833, zenith_neutrino=2.6048648357391357, dir3vec=[3], dir3vec_lepton=[3], pid=-14.0)\n",
      "Data(x=[61, 32], n_doms=61, event_no=111000100000144, feature_path='C:\\Users\\lauri\\OneDrive\\Skrivebord\\Studie\\FinalProject\\IceCube_data_final_project\\22011\\1/PMTfied_1.parquet', energy=19048.443359375, azimuth_neutrino=3.42215895652771, zenith_neutrino=2.1855454444885254, dir3vec=[3], dir3vec_lepton=[3], pid=-14.0)\n",
      "Data(x=[35, 32], n_doms=35, event_no=111000100000147, feature_path='C:\\Users\\lauri\\OneDrive\\Skrivebord\\Studie\\FinalProject\\IceCube_data_final_project\\22011\\1/PMTfied_1.parquet', energy=34169.4453125, azimuth_neutrino=2.241109609603882, zenith_neutrino=1.3952174186706543, dir3vec=[3], dir3vec_lepton=[3], pid=14.0)\n",
      "Data(x=[75, 32], n_doms=75, event_no=111000100000148, feature_path='C:\\Users\\lauri\\OneDrive\\Skrivebord\\Studie\\FinalProject\\IceCube_data_final_project\\22011\\1/PMTfied_1.parquet', energy=11918.1005859375, azimuth_neutrino=3.1234259605407715, zenith_neutrino=1.2180098295211792, dir3vec=[3], dir3vec_lepton=[3], pid=-14.0)\n",
      "Data(x=[554, 32], n_doms=554, event_no=111000100000150, feature_path='C:\\Users\\lauri\\OneDrive\\Skrivebord\\Studie\\FinalProject\\IceCube_data_final_project\\22011\\1/PMTfied_1.parquet', energy=437112.53125, azimuth_neutrino=3.124323606491089, zenith_neutrino=0.47832873463630676, dir3vec=[3], dir3vec_lepton=[3], pid=-14.0)\n",
      "Data(x=[29, 32], n_doms=29, event_no=111000100000155, feature_path='C:\\Users\\lauri\\OneDrive\\Skrivebord\\Studie\\FinalProject\\IceCube_data_final_project\\22011\\1/PMTfied_1.parquet', energy=20073.8984375, azimuth_neutrino=2.3344831466674805, zenith_neutrino=1.2293953895568848, dir3vec=[3], dir3vec_lepton=[3], pid=14.0)\n",
      "Data(x=[30, 32], n_doms=30, event_no=111000100000159, feature_path='C:\\Users\\lauri\\OneDrive\\Skrivebord\\Studie\\FinalProject\\IceCube_data_final_project\\22011\\1/PMTfied_1.parquet', energy=19457.51953125, azimuth_neutrino=1.0597094297409058, zenith_neutrino=1.3636468648910522, dir3vec=[3], dir3vec_lepton=[3], pid=-14.0)\n",
      "Data(x=[43, 32], n_doms=43, event_no=111000100000161, feature_path='C:\\Users\\lauri\\OneDrive\\Skrivebord\\Studie\\FinalProject\\IceCube_data_final_project\\22011\\1/PMTfied_1.parquet', energy=39288.58984375, azimuth_neutrino=0.9684856534004211, zenith_neutrino=1.3919317722320557, dir3vec=[3], dir3vec_lepton=[3], pid=-14.0)\n",
      "Data(x=[568, 32], n_doms=568, event_no=111000100000162, feature_path='C:\\Users\\lauri\\OneDrive\\Skrivebord\\Studie\\FinalProject\\IceCube_data_final_project\\22011\\1/PMTfied_1.parquet', energy=81989.8125, azimuth_neutrino=1.8298262357711792, zenith_neutrino=2.6991024017333984, dir3vec=[3], dir3vec_lepton=[3], pid=14.0)\n",
      "Data(x=[88, 32], n_doms=88, event_no=111000100000163, feature_path='C:\\Users\\lauri\\OneDrive\\Skrivebord\\Studie\\FinalProject\\IceCube_data_final_project\\22011\\1/PMTfied_1.parquet', energy=36871.61328125, azimuth_neutrino=6.256344795227051, zenith_neutrino=1.1397494077682495, dir3vec=[3], dir3vec_lepton=[3], pid=14.0)\n",
      "Data(x=[93, 32], n_doms=93, event_no=111000100000164, feature_path='C:\\Users\\lauri\\OneDrive\\Skrivebord\\Studie\\FinalProject\\IceCube_data_final_project\\22011\\1/PMTfied_1.parquet', energy=48296.24609375, azimuth_neutrino=5.922667503356934, zenith_neutrino=1.4293696880340576, dir3vec=[3], dir3vec_lepton=[3], pid=14.0)\n",
      "Data(x=[114, 32], n_doms=114, event_no=111000100000165, feature_path='C:\\Users\\lauri\\OneDrive\\Skrivebord\\Studie\\FinalProject\\IceCube_data_final_project\\22011\\1/PMTfied_1.parquet', energy=14479.94921875, azimuth_neutrino=2.4511756896972656, zenith_neutrino=2.8451192378997803, dir3vec=[3], dir3vec_lepton=[3], pid=-14.0)\n",
      "Data(x=[30, 32], n_doms=30, event_no=111000100000171, feature_path='C:\\Users\\lauri\\OneDrive\\Skrivebord\\Studie\\FinalProject\\IceCube_data_final_project\\22011\\1/PMTfied_1.parquet', energy=330744.03125, azimuth_neutrino=4.88403844833374, zenith_neutrino=1.70735764503479, dir3vec=[3], dir3vec_lepton=[3], pid=14.0)\n",
      "Data(x=[32, 32], n_doms=32, event_no=111000100000172, feature_path='C:\\Users\\lauri\\OneDrive\\Skrivebord\\Studie\\FinalProject\\IceCube_data_final_project\\22011\\1/PMTfied_1.parquet', energy=35050.390625, azimuth_neutrino=2.291719675064087, zenith_neutrino=0.7884396314620972, dir3vec=[3], dir3vec_lepton=[3], pid=-14.0)\n",
      "Data(x=[10, 32], n_doms=10, event_no=111000100000173, feature_path='C:\\Users\\lauri\\OneDrive\\Skrivebord\\Studie\\FinalProject\\IceCube_data_final_project\\22011\\1/PMTfied_1.parquet', energy=10857.751953125, azimuth_neutrino=0.4483059346675873, zenith_neutrino=1.9845168590545654, dir3vec=[3], dir3vec_lepton=[3], pid=-14.0)\n",
      "Data(x=[20, 32], n_doms=20, event_no=111000100000174, feature_path='C:\\Users\\lauri\\OneDrive\\Skrivebord\\Studie\\FinalProject\\IceCube_data_final_project\\22011\\1/PMTfied_1.parquet', energy=59734.9296875, azimuth_neutrino=3.201763391494751, zenith_neutrino=2.9686479568481445, dir3vec=[3], dir3vec_lepton=[3], pid=14.0)\n",
      "Data(x=[102, 32], n_doms=102, event_no=111000100000176, feature_path='C:\\Users\\lauri\\OneDrive\\Skrivebord\\Studie\\FinalProject\\IceCube_data_final_project\\22011\\1/PMTfied_1.parquet', energy=179719.90625, azimuth_neutrino=3.3095743656158447, zenith_neutrino=1.3385688066482544, dir3vec=[3], dir3vec_lepton=[3], pid=-14.0)\n",
      "Data(x=[124, 32], n_doms=124, event_no=111000100000179, feature_path='C:\\Users\\lauri\\OneDrive\\Skrivebord\\Studie\\FinalProject\\IceCube_data_final_project\\22011\\1/PMTfied_1.parquet', energy=121365.2890625, azimuth_neutrino=1.5369389057159424, zenith_neutrino=0.9820321202278137, dir3vec=[3], dir3vec_lepton=[3], pid=-14.0)\n",
      "Data(x=[36, 32], n_doms=36, event_no=111000100000183, feature_path='C:\\Users\\lauri\\OneDrive\\Skrivebord\\Studie\\FinalProject\\IceCube_data_final_project\\22011\\1/PMTfied_1.parquet', energy=174409.53125, azimuth_neutrino=2.6948294639587402, zenith_neutrino=2.3659727573394775, dir3vec=[3], dir3vec_lepton=[3], pid=14.0)\n",
      "Data(x=[73, 32], n_doms=73, event_no=111000100000184, feature_path='C:\\Users\\lauri\\OneDrive\\Skrivebord\\Studie\\FinalProject\\IceCube_data_final_project\\22011\\1/PMTfied_1.parquet', energy=16931.427734375, azimuth_neutrino=4.482996463775635, zenith_neutrino=1.8559478521347046, dir3vec=[3], dir3vec_lepton=[3], pid=14.0)\n"
     ]
    }
   ],
   "source": [
    "for i in range(100):\n",
    "    print(dataset[i])"
   ]
  },
  {
   "cell_type": "code",
   "execution_count": 11,
   "id": "1dce1f3b",
   "metadata": {},
   "outputs": [],
   "source": [
    "from src.dataloader import custom_collate_fn, make_dataloader_PMT\n",
    "from torch.utils.data import DataLoader"
   ]
  },
  {
   "cell_type": "code",
   "execution_count": 16,
   "id": "460a002e",
   "metadata": {},
   "outputs": [],
   "source": [
    "train_loader = DataLoader(\n",
    "        dataset=dataset,\n",
    "        collate_fn= custom_collate_fn,\n",
    "        batch_size=4,\n",
    "        shuffle=False,\n",
    "        num_workers=1,\n",
    "        persistent_workers=True,\n",
    "        pin_memory=True,\n",
    "    )"
   ]
  },
  {
   "cell_type": "code",
   "execution_count": 17,
   "id": "65095aff",
   "metadata": {},
   "outputs": [
    {
     "name": "stdout",
     "output_type": "stream",
     "text": [
      "torch.Size([4, 256, 32]) torch.Size([4, 3]) torch.Size([4])\n",
      "tensor([105,  32, 114,  19])\n"
     ]
    }
   ],
   "source": [
    "# print dataloader batch 1\n",
    "for i, batch in enumerate(train_loader):\n",
    "    if i == 0:\n",
    "        print(batch[0].shape, batch[1].shape, batch[2].shape)\n",
    "        print(batch[2])\n",
    "        break"
   ]
  },
  {
   "cell_type": "code",
   "execution_count": null,
   "id": "ff8ad315",
   "metadata": {},
   "outputs": [],
   "source": []
  }
 ],
 "metadata": {
  "kernelspec": {
   "display_name": "appml",
   "language": "python",
   "name": "python3"
  },
  "language_info": {
   "codemirror_mode": {
    "name": "ipython",
    "version": 3
   },
   "file_extension": ".py",
   "mimetype": "text/x-python",
   "name": "python",
   "nbconvert_exporter": "python",
   "pygments_lexer": "ipython3",
   "version": "3.12.9"
  }
 },
 "nbformat": 4,
 "nbformat_minor": 5
}
